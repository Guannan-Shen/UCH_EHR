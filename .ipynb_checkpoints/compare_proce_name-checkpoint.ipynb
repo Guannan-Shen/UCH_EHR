{
 "cells": [
  {
   "cell_type": "code",
   "execution_count": 25,
   "id": "7c39e01d-3a37-4d87-8ffa-5fa39993782b",
   "metadata": {},
   "outputs": [],
   "source": [
    "# for string distance algorithm\n",
    "import jellyfish\n",
    "import my_load\n",
    "import pandas as pd\n",
    "import dask.dataframe as dd\n",
    "import gc"
   ]
  },
  {
   "cell_type": "code",
   "execution_count": 24,
   "id": "deaae538-2a71-4a47-bc15-e56651359d6d",
   "metadata": {},
   "outputs": [],
   "source": [
    "# # select desired columns tab10, \n",
    "# med_procedure = tab10[[\"arb_person_id\", \"arb_encounter_id\", \"ProcedureName\"]]\n",
    "# # select desired columns tab11, Lab\n",
    "# # lab_procedure = tab11[[\"arb_person_id\", \"arb_encounter_id\"]]"
   ]
  },
  {
   "cell_type": "code",
   "execution_count": 7,
   "id": "144a9aad-311a-4140-9e03-3cc9f3b67cbc",
   "metadata": {},
   "outputs": [],
   "source": [
    "# # Inner join MemoryError \n",
    "# # MemoryError: Unable to allocate 29.7 GiB for an array with shape (3983626340,) and data type int64\n",
    "# innerJoin_personId_encoun_id = pd.merge(med_procedure, tab11, on=[\"arb_person_id\", \"arb_encounter_id\"], how=\"inner\")"
   ]
  },
  {
   "cell_type": "code",
   "execution_count": 8,
   "id": "fa922ddf-f7c2-4260-9e76-870e00cb9127",
   "metadata": {},
   "outputs": [],
   "source": [
    "# path and cols to read in\n",
    "file_path_tab11 = (\"//data/dept/SOM/ACCORDS/PiFolders/PI_Colborn/UCHealthSOR/Data/C2730_20240628\"\n",
    "                       \"/C2730_Table11_Lab_20240223.csv\")\n",
    "# dtype = {\"EpicCptCode\": \"object\", \"LabResult\": \"object\"}\n",
    "cols11 = [\"arb_person_id\", \"arb_encounter_id\", 'LabComponentName', 'LabPanelName']\n",
    "\n",
    "file_path_tab10 = (\"//data/dept/SOM/ACCORDS/PiFolders/PI_Colborn/UCHealthSOR/Data/C2730_20240628\"\n",
    "                       \"/C2730_Table10_CUMedicineProcedure_20240223.csv\")\n",
    "cols10 = [\"arb_person_id\", \"arb_encounter_id\", \"ProcedureCategoryName\", \"ProcedureName\"]"
   ]
  },
  {
   "cell_type": "code",
   "execution_count": 9,
   "id": "eb6d0f6e-98fb-4c9f-90a1-c50dcf9361a2",
   "metadata": {},
   "outputs": [
    {
     "name": "stdout",
     "output_type": "stream",
     "text": [
      "(7611644, 4)\n",
      "0.30446576\n",
      "(187984110, 4)\n",
      "7.5193644\n"
     ]
    }
   ],
   "source": [
    "# read in data\n",
    "tab10 = my_load.load_csv_dask_cols(file_path_tab10, cols=cols10)\n",
    "print(tab10.shape)\n",
    "print(tab10.memory_usage(index=True).sum()/1000000000)\n",
    "tab11 = my_load.load_csv_dask_cols(file_path_tab11, cols=cols11)\n",
    "print(tab11.shape)\n",
    "print(tab11.memory_usage(index=True).sum()/1000000000)"
   ]
  },
  {
   "cell_type": "code",
   "execution_count": 10,
   "id": "1822516e-cdaa-4c67-8802-6bed11b996a8",
   "metadata": {},
   "outputs": [
    {
     "name": "stdout",
     "output_type": "stream",
     "text": [
      "(6110898, 4)\n",
      "(114123508, 4)\n"
     ]
    }
   ],
   "source": [
    "# drop duplicates \n",
    "tab10.drop_duplicates(inplace=True)\n",
    "tab11.drop_duplicates(inplace=True)\n",
    "print(tab10.shape)\n",
    "print(tab11.shape)"
   ]
  },
  {
   "cell_type": "code",
   "execution_count": 11,
   "id": "3457c97e-cc55-475f-8e7e-001ba4b2d67d",
   "metadata": {},
   "outputs": [],
   "source": [
    "# try merge deduplicated tables using dask\n",
    "join10_11 = dd.merge(tab10, tab11, on=[\"arb_person_id\", \"arb_encounter_id\"], how=\"inner\")\n",
    "del tab11\n",
    "del tab10"
   ]
  },
  {
   "cell_type": "code",
   "execution_count": 13,
   "id": "a3a720ea-5e5c-4d4d-b4f3-fae42fbec009",
   "metadata": {},
   "outputs": [
    {
     "data": {
      "text/plain": [
       "2736"
      ]
     },
     "execution_count": 13,
     "metadata": {},
     "output_type": "execute_result"
    }
   ],
   "source": [
    "# manual garbage collection\n",
    "gc.collect()"
   ]
  },
  {
   "cell_type": "code",
   "execution_count": 14,
   "id": "deaa72ee-96c6-4dcb-9638-8294cb6fc923",
   "metadata": {},
   "outputs": [],
   "source": [
    "# transfer object from disk to memory\n",
    "result = join10_11.compute()"
   ]
  },
  {
   "cell_type": "code",
   "execution_count": 16,
   "id": "38450570-419d-473c-8de8-71f8d495407b",
   "metadata": {},
   "outputs": [],
   "source": [
    "del join10_11"
   ]
  },
  {
   "cell_type": "code",
   "execution_count": 17,
   "id": "bd932d8d-9bf7-4c4a-a36d-bc59a42661d3",
   "metadata": {},
   "outputs": [
    {
     "data": {
      "text/plain": [
       "28"
      ]
     },
     "execution_count": 17,
     "metadata": {},
     "output_type": "execute_result"
    }
   ],
   "source": [
    "# manual garbage collection\n",
    "gc.collect()"
   ]
  },
  {
   "cell_type": "code",
   "execution_count": 18,
   "id": "4e730cd3-8f8b-4f0c-ae5f-54914698149f",
   "metadata": {},
   "outputs": [
    {
     "name": "stdout",
     "output_type": "stream",
     "text": [
      "(263895898, 6)\n"
     ]
    }
   ],
   "source": [
    "print(result.shape)"
   ]
  },
  {
   "cell_type": "code",
   "execution_count": 19,
   "id": "4bc11a8c-220b-438c-88df-01171f97a663",
   "metadata": {},
   "outputs": [
    {
     "data": {
      "text/html": [
       "<div>\n",
       "<style scoped>\n",
       "    .dataframe tbody tr th:only-of-type {\n",
       "        vertical-align: middle;\n",
       "    }\n",
       "\n",
       "    .dataframe tbody tr th {\n",
       "        vertical-align: top;\n",
       "    }\n",
       "\n",
       "    .dataframe thead th {\n",
       "        text-align: right;\n",
       "    }\n",
       "</style>\n",
       "<table border=\"1\" class=\"dataframe\">\n",
       "  <thead>\n",
       "    <tr style=\"text-align: right;\">\n",
       "      <th></th>\n",
       "      <th>arb_person_id</th>\n",
       "      <th>arb_encounter_id</th>\n",
       "      <th>ProcedureCategoryName</th>\n",
       "      <th>ProcedureName</th>\n",
       "      <th>LabComponentName</th>\n",
       "      <th>LabPanelName</th>\n",
       "    </tr>\n",
       "  </thead>\n",
       "  <tbody>\n",
       "    <tr>\n",
       "      <th>0</th>\n",
       "      <td>7582269443</td>\n",
       "      <td>65454259158</td>\n",
       "      <td>EVAL AND MGMT</td>\n",
       "      <td>EMERGENCY DEPT VISIT HI MDM</td>\n",
       "      <td>Hematocrit</td>\n",
       "      <td>CBC NO AUTO DIFF</td>\n",
       "    </tr>\n",
       "    <tr>\n",
       "      <th>1</th>\n",
       "      <td>7582269443</td>\n",
       "      <td>65454259158</td>\n",
       "      <td>EVAL AND MGMT</td>\n",
       "      <td>EMERGENCY DEPT VISIT HI MDM</td>\n",
       "      <td>Shigella/Enteroinvasive E coli</td>\n",
       "      <td>GI PCR PANEL (AFFILIATES ONLY)</td>\n",
       "    </tr>\n",
       "    <tr>\n",
       "      <th>2</th>\n",
       "      <td>7582269443</td>\n",
       "      <td>65454259158</td>\n",
       "      <td>EVAL AND MGMT</td>\n",
       "      <td>EMERGENCY DEPT VISIT HI MDM</td>\n",
       "      <td>Chloride Serum/Plasma</td>\n",
       "      <td>BASIC METABOLIC PANEL</td>\n",
       "    </tr>\n",
       "    <tr>\n",
       "      <th>3</th>\n",
       "      <td>7582269443</td>\n",
       "      <td>65454259158</td>\n",
       "      <td>EVAL AND MGMT</td>\n",
       "      <td>EMERGENCY DEPT VISIT HI MDM</td>\n",
       "      <td>Product Blood Type</td>\n",
       "      <td>PREPARE RBCS FOR TRANSFUSION</td>\n",
       "    </tr>\n",
       "    <tr>\n",
       "      <th>4</th>\n",
       "      <td>7582269443</td>\n",
       "      <td>65454259158</td>\n",
       "      <td>EVAL AND MGMT</td>\n",
       "      <td>EMERGENCY DEPT VISIT HI MDM</td>\n",
       "      <td>White Blood Cells Urine</td>\n",
       "      <td>UA DIPSTICK W/ REFLEX TO MICROSCOPIC EXAM IF I...</td>\n",
       "    </tr>\n",
       "    <tr>\n",
       "      <th>5</th>\n",
       "      <td>7582269443</td>\n",
       "      <td>65454259158</td>\n",
       "      <td>EVAL AND MGMT</td>\n",
       "      <td>EMERGENCY DEPT VISIT HI MDM</td>\n",
       "      <td>Body Fluid Lymphocytes</td>\n",
       "      <td>DIFFERENTIAL, BODY FLUID (PERFORMABLE)</td>\n",
       "    </tr>\n",
       "    <tr>\n",
       "      <th>6</th>\n",
       "      <td>7582269443</td>\n",
       "      <td>65454259158</td>\n",
       "      <td>EVAL AND MGMT</td>\n",
       "      <td>EMERGENCY DEPT VISIT HI MDM</td>\n",
       "      <td>Protein Total Serum/Plasma</td>\n",
       "      <td>HEPATIC FUNCTION PANEL</td>\n",
       "    </tr>\n",
       "    <tr>\n",
       "      <th>7</th>\n",
       "      <td>7582269443</td>\n",
       "      <td>65454259158</td>\n",
       "      <td>EVAL AND MGMT</td>\n",
       "      <td>EMERGENCY DEPT VISIT HI MDM</td>\n",
       "      <td>Urine Culture</td>\n",
       "      <td>URINE CULTURE</td>\n",
       "    </tr>\n",
       "    <tr>\n",
       "      <th>8</th>\n",
       "      <td>7582269443</td>\n",
       "      <td>65454259158</td>\n",
       "      <td>EVAL AND MGMT</td>\n",
       "      <td>EMERGENCY DEPT VISIT HI MDM</td>\n",
       "      <td>Parainfluenza 4</td>\n",
       "      <td>RESPIRATORY VIRAL PANEL PCR</td>\n",
       "    </tr>\n",
       "    <tr>\n",
       "      <th>9</th>\n",
       "      <td>7582269443</td>\n",
       "      <td>65454259158</td>\n",
       "      <td>EVAL AND MGMT</td>\n",
       "      <td>EMERGENCY DEPT VISIT HI MDM</td>\n",
       "      <td>Blood Urea Nitrogen</td>\n",
       "      <td>BASIC METABOLIC PANEL</td>\n",
       "    </tr>\n",
       "    <tr>\n",
       "      <th>10</th>\n",
       "      <td>7582269443</td>\n",
       "      <td>65454259158</td>\n",
       "      <td>EVAL AND MGMT</td>\n",
       "      <td>EMERGENCY DEPT VISIT HI MDM</td>\n",
       "      <td>Influenza B</td>\n",
       "      <td>RESPIRATORY VIRAL PANEL PCR</td>\n",
       "    </tr>\n",
       "    <tr>\n",
       "      <th>11</th>\n",
       "      <td>7582269443</td>\n",
       "      <td>65454259158</td>\n",
       "      <td>EVAL AND MGMT</td>\n",
       "      <td>EMERGENCY DEPT VISIT HI MDM</td>\n",
       "      <td>ABO/Rh Typing</td>\n",
       "      <td>TYPE AND SCREEN</td>\n",
       "    </tr>\n",
       "    <tr>\n",
       "      <th>12</th>\n",
       "      <td>7582269443</td>\n",
       "      <td>65454259158</td>\n",
       "      <td>EVAL AND MGMT</td>\n",
       "      <td>EMERGENCY DEPT VISIT HI MDM</td>\n",
       "      <td>Nitrite Urine</td>\n",
       "      <td>UA DIPSTICK W/ REFLEX TO MICROSCOPIC EXAM IF I...</td>\n",
       "    </tr>\n",
       "    <tr>\n",
       "      <th>13</th>\n",
       "      <td>7582269443</td>\n",
       "      <td>65454259158</td>\n",
       "      <td>EVAL AND MGMT</td>\n",
       "      <td>EMERGENCY DEPT VISIT HI MDM</td>\n",
       "      <td>Product Code</td>\n",
       "      <td>PREPARE RBCS FOR TRANSFUSION</td>\n",
       "    </tr>\n",
       "    <tr>\n",
       "      <th>14</th>\n",
       "      <td>7582269443</td>\n",
       "      <td>65454259158</td>\n",
       "      <td>EVAL AND MGMT</td>\n",
       "      <td>EMERGENCY DEPT VISIT HI MDM</td>\n",
       "      <td>Albumin</td>\n",
       "      <td>HEPATIC FUNCTION PANEL</td>\n",
       "    </tr>\n",
       "    <tr>\n",
       "      <th>15</th>\n",
       "      <td>7582269443</td>\n",
       "      <td>65454259158</td>\n",
       "      <td>EVAL AND MGMT</td>\n",
       "      <td>EMERGENCY DEPT VISIT HI MDM</td>\n",
       "      <td>Influenza A</td>\n",
       "      <td>RESPIRATORY VIRAL PANEL PCR</td>\n",
       "    </tr>\n",
       "    <tr>\n",
       "      <th>16</th>\n",
       "      <td>7582269443</td>\n",
       "      <td>65454259158</td>\n",
       "      <td>EVAL AND MGMT</td>\n",
       "      <td>EMERGENCY DEPT VISIT HI MDM</td>\n",
       "      <td>C difficile toxin AB</td>\n",
       "      <td>GI PCR PANEL (AFFILIATES ONLY)</td>\n",
       "    </tr>\n",
       "    <tr>\n",
       "      <th>17</th>\n",
       "      <td>7582269443</td>\n",
       "      <td>65454259158</td>\n",
       "      <td>EVAL AND MGMT</td>\n",
       "      <td>EMERGENCY DEPT VISIT HI MDM</td>\n",
       "      <td>Product Unit Number</td>\n",
       "      <td>PREPARE RBCS FOR TRANSFUSION</td>\n",
       "    </tr>\n",
       "    <tr>\n",
       "      <th>18</th>\n",
       "      <td>7582269443</td>\n",
       "      <td>65454259158</td>\n",
       "      <td>EVAL AND MGMT</td>\n",
       "      <td>EMERGENCY DEPT VISIT HI MDM</td>\n",
       "      <td>Creatinine Serum/Plasma</td>\n",
       "      <td>BASIC METABOLIC PANEL</td>\n",
       "    </tr>\n",
       "    <tr>\n",
       "      <th>19</th>\n",
       "      <td>7582269443</td>\n",
       "      <td>65454259158</td>\n",
       "      <td>EVAL AND MGMT</td>\n",
       "      <td>EMERGENCY DEPT VISIT HI MDM</td>\n",
       "      <td>Sapovirus</td>\n",
       "      <td>GI PCR PANEL (AFFILIATES ONLY)</td>\n",
       "    </tr>\n",
       "  </tbody>\n",
       "</table>\n",
       "</div>"
      ],
      "text/plain": [
       "    arb_person_id  arb_encounter_id ProcedureCategoryName  \\\n",
       "0      7582269443       65454259158         EVAL AND MGMT   \n",
       "1      7582269443       65454259158         EVAL AND MGMT   \n",
       "2      7582269443       65454259158         EVAL AND MGMT   \n",
       "3      7582269443       65454259158         EVAL AND MGMT   \n",
       "4      7582269443       65454259158         EVAL AND MGMT   \n",
       "5      7582269443       65454259158         EVAL AND MGMT   \n",
       "6      7582269443       65454259158         EVAL AND MGMT   \n",
       "7      7582269443       65454259158         EVAL AND MGMT   \n",
       "8      7582269443       65454259158         EVAL AND MGMT   \n",
       "9      7582269443       65454259158         EVAL AND MGMT   \n",
       "10     7582269443       65454259158         EVAL AND MGMT   \n",
       "11     7582269443       65454259158         EVAL AND MGMT   \n",
       "12     7582269443       65454259158         EVAL AND MGMT   \n",
       "13     7582269443       65454259158         EVAL AND MGMT   \n",
       "14     7582269443       65454259158         EVAL AND MGMT   \n",
       "15     7582269443       65454259158         EVAL AND MGMT   \n",
       "16     7582269443       65454259158         EVAL AND MGMT   \n",
       "17     7582269443       65454259158         EVAL AND MGMT   \n",
       "18     7582269443       65454259158         EVAL AND MGMT   \n",
       "19     7582269443       65454259158         EVAL AND MGMT   \n",
       "\n",
       "                  ProcedureName                LabComponentName  \\\n",
       "0   EMERGENCY DEPT VISIT HI MDM                      Hematocrit   \n",
       "1   EMERGENCY DEPT VISIT HI MDM  Shigella/Enteroinvasive E coli   \n",
       "2   EMERGENCY DEPT VISIT HI MDM           Chloride Serum/Plasma   \n",
       "3   EMERGENCY DEPT VISIT HI MDM              Product Blood Type   \n",
       "4   EMERGENCY DEPT VISIT HI MDM         White Blood Cells Urine   \n",
       "5   EMERGENCY DEPT VISIT HI MDM          Body Fluid Lymphocytes   \n",
       "6   EMERGENCY DEPT VISIT HI MDM      Protein Total Serum/Plasma   \n",
       "7   EMERGENCY DEPT VISIT HI MDM                   Urine Culture   \n",
       "8   EMERGENCY DEPT VISIT HI MDM                 Parainfluenza 4   \n",
       "9   EMERGENCY DEPT VISIT HI MDM             Blood Urea Nitrogen   \n",
       "10  EMERGENCY DEPT VISIT HI MDM                     Influenza B   \n",
       "11  EMERGENCY DEPT VISIT HI MDM                   ABO/Rh Typing   \n",
       "12  EMERGENCY DEPT VISIT HI MDM                   Nitrite Urine   \n",
       "13  EMERGENCY DEPT VISIT HI MDM                    Product Code   \n",
       "14  EMERGENCY DEPT VISIT HI MDM                         Albumin   \n",
       "15  EMERGENCY DEPT VISIT HI MDM                     Influenza A   \n",
       "16  EMERGENCY DEPT VISIT HI MDM            C difficile toxin AB   \n",
       "17  EMERGENCY DEPT VISIT HI MDM             Product Unit Number   \n",
       "18  EMERGENCY DEPT VISIT HI MDM         Creatinine Serum/Plasma   \n",
       "19  EMERGENCY DEPT VISIT HI MDM                       Sapovirus   \n",
       "\n",
       "                                         LabPanelName  \n",
       "0                                    CBC NO AUTO DIFF  \n",
       "1                      GI PCR PANEL (AFFILIATES ONLY)  \n",
       "2                               BASIC METABOLIC PANEL  \n",
       "3                        PREPARE RBCS FOR TRANSFUSION  \n",
       "4   UA DIPSTICK W/ REFLEX TO MICROSCOPIC EXAM IF I...  \n",
       "5              DIFFERENTIAL, BODY FLUID (PERFORMABLE)  \n",
       "6                              HEPATIC FUNCTION PANEL  \n",
       "7                                       URINE CULTURE  \n",
       "8                         RESPIRATORY VIRAL PANEL PCR  \n",
       "9                               BASIC METABOLIC PANEL  \n",
       "10                        RESPIRATORY VIRAL PANEL PCR  \n",
       "11                                    TYPE AND SCREEN  \n",
       "12  UA DIPSTICK W/ REFLEX TO MICROSCOPIC EXAM IF I...  \n",
       "13                       PREPARE RBCS FOR TRANSFUSION  \n",
       "14                             HEPATIC FUNCTION PANEL  \n",
       "15                        RESPIRATORY VIRAL PANEL PCR  \n",
       "16                     GI PCR PANEL (AFFILIATES ONLY)  \n",
       "17                       PREPARE RBCS FOR TRANSFUSION  \n",
       "18                              BASIC METABOLIC PANEL  \n",
       "19                     GI PCR PANEL (AFFILIATES ONLY)  "
      ]
     },
     "execution_count": 19,
     "metadata": {},
     "output_type": "execute_result"
    }
   ],
   "source": [
    "result.head(20)"
   ]
  },
  {
   "cell_type": "code",
   "execution_count": 20,
   "id": "8c8c35a6-e830-4ce3-ba9c-dd7d045c842c",
   "metadata": {},
   "outputs": [],
   "source": [
    "# # test join with 1/10 data\n",
    "# tab10 = my_load.load_csv_dask_cols(file_path_tab10, cols=cols10)\n",
    "# print(tab10.shape)\n",
    "# print(tab10.memory_usage(index=True).sum()/1000000000)\n",
    "# tab11 = my_load.load_csv_dask_cols(file_path_tab11, cols=cols11)\n",
    "# print(tab11.shape)\n",
    "# print(tab11.memory_usage(index=True).sum()/1000000000)\n",
    "# t10 = tab10.sample(frac=0.1, replace=False, random_state=1)\n",
    "# t11 = tab11.sample(frac=0.1, replace=False, random_state=1)\n",
    "\n",
    "# join10_11 = dd.merge(t10, t11, on=[\"arb_person_id\", \"arb_encounter_id\"], how=\"inner\")\n",
    "# del tab11\n",
    "# del tab10\n",
    "# gc.collect()\n",
    "# test_join = join10_11.compute()\n",
    "# test_join.head(200)"
   ]
  },
  {
   "cell_type": "code",
   "execution_count": null,
   "id": "d6844012-baec-4a2c-90cf-7c9295de598a",
   "metadata": {},
   "outputs": [],
   "source": [
    "# using jellyfish package to calculate string distances"
   ]
  }
 ],
 "metadata": {
  "kernelspec": {
   "display_name": "Python 3 (ipykernel)",
   "language": "python",
   "name": "python3"
  },
  "language_info": {
   "codemirror_mode": {
    "name": "ipython",
    "version": 3
   },
   "file_extension": ".py",
   "mimetype": "text/x-python",
   "name": "python",
   "nbconvert_exporter": "python",
   "pygments_lexer": "ipython3",
   "version": "3.11.9"
  }
 },
 "nbformat": 4,
 "nbformat_minor": 5
}
