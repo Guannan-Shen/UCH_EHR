{
 "cells": [
  {
   "cell_type": "code",
   "execution_count": 1,
   "id": "7c39e01d-3a37-4d87-8ffa-5fa39993782b",
   "metadata": {},
   "outputs": [],
   "source": [
    "import freq_table\n",
    "import pandas as pd"
   ]
  },
  {
   "cell_type": "code",
   "execution_count": 2,
   "id": "2a7aa4f3-deb2-4bb3-a165-e7b4378a47fa",
   "metadata": {},
   "outputs": [],
   "source": [
    "# file_path_tab11 = (\"//data/dept/SOM/ACCORDS/PiFolders/PI_Colborn/UCHealthSOR/Data/C2730_20240628\"\n",
    "#                        \"/C2730_Table11_Lab_20240223.csv\")\n",
    "# dtype = {\"EpicCptCode\": \"object\", \"LabResult\": \"object\"}\n",
    "\n",
    "# file_path_tab10 = (\"//data/dept/SOM/ACCORDS/PiFolders/PI_Colborn/UCHealthSOR/Data/C2730_20240628\"\n",
    "#                        \"/C2730_Table10_CUMedicineProcedure_20240223.csv\")\n",
    "# tab10 = freq_table.load_csv_dask(file_path_tab10)\n",
    "# tab11 = freq_table.load_csv_dask(file_path_tab11, dtype=dtype)"
   ]
  },
  {
   "cell_type": "code",
   "execution_count": 3,
   "id": "5d0cf3b8-8349-4536-b730-3810d5044c7e",
   "metadata": {},
   "outputs": [],
   "source": [
    "# file_path_tab5 = (\"//data/dept/SOM/ACCORDS/PiFolders/PI_Colborn/UCHealthSOR/Data/C2730_20240628\"\n",
    "#                        \"/C2730_Table5_Procedures_20240223.csv\")\n",
    "# dtype = {\"OmopCptCode\": \"object\", \"OmopHcpcsCode\": \"object\"}\n",
    "# tab5 = freq_table.load_csv_dask(file_path_tab5, dtype=dtype)"
   ]
  },
  {
   "cell_type": "code",
   "execution_count": 4,
   "id": "f9d84571-8cc2-4822-8f42-9d61ca06156b",
   "metadata": {},
   "outputs": [],
   "source": [
    "# print(tab5.shape)"
   ]
  },
  {
   "cell_type": "code",
   "execution_count": 5,
   "id": "57b29ab4-99ef-4da4-9fda-628472e04f30",
   "metadata": {},
   "outputs": [],
   "source": [
    "# print(tab10.shape)\n",
    "# print(tab11.shape)"
   ]
  },
  {
   "cell_type": "code",
   "execution_count": 6,
   "id": "8d77daa4-8f88-4856-9933-fd656d332d28",
   "metadata": {},
   "outputs": [],
   "source": [
    "# tab10.dtypes"
   ]
  },
  {
   "cell_type": "code",
   "execution_count": 7,
   "id": "7240780f-3a4d-4afa-9d0c-2453f7e40adb",
   "metadata": {},
   "outputs": [],
   "source": [
    "# tab11.dtypes"
   ]
  },
  {
   "cell_type": "code",
   "execution_count": 8,
   "id": "d683707b-9c3e-4f62-8593-f029e8702723",
   "metadata": {},
   "outputs": [],
   "source": [
    "# tab10.head()"
   ]
  },
  {
   "cell_type": "code",
   "execution_count": 9,
   "id": "f11c7124-f583-4b2a-98f1-b6deda4c1e4e",
   "metadata": {},
   "outputs": [],
   "source": [
    "# tab11.head(10)"
   ]
  },
  {
   "cell_type": "code",
   "execution_count": 10,
   "id": "69036e42-ac1b-4002-b8bb-857dd5ea9bc5",
   "metadata": {},
   "outputs": [],
   "source": [
    "# # try with arb_person_id, 7705893346, arb_encounter_id 173008628545\n",
    "# # titanic.loc[titanic[\"Age\"] > 35, \"Name\"]\n",
    "# print(tab10.loc[tab10[\"arb_person_id\"] == 23507868058, [\"arb_encounter_id\", \"ProcedureName\",\"ProcedureCategoryName\"]])"
   ]
  },
  {
   "cell_type": "code",
   "execution_count": 11,
   "id": "deaae538-2a71-4a47-bc15-e56651359d6d",
   "metadata": {},
   "outputs": [],
   "source": [
    "# # select desired columns tab10, \n",
    "# med_procedure = tab10[[\"arb_person_id\", \"arb_encounter_id\", \"ProcedureName\"]]\n",
    "# # select desired columns tab11, Lab\n",
    "# # lab_procedure = tab11[[\"arb_person_id\", \"arb_encounter_id\"]]"
   ]
  },
  {
   "cell_type": "code",
   "execution_count": 12,
   "id": "144a9aad-311a-4140-9e03-3cc9f3b67cbc",
   "metadata": {},
   "outputs": [],
   "source": [
    "# # Inner join MemoryError \n",
    "# # MemoryError: Unable to allocate 29.7 GiB for an array with shape (3983626340,) and data type int64\n",
    "# innerJoin_personId_encoun_id = pd.merge(med_procedure, tab11, on=[\"arb_person_id\", \"arb_encounter_id\"], how=\"inner\")"
   ]
  },
  {
   "cell_type": "code",
   "execution_count": null,
   "id": "bee1a9bd-5de3-4afc-b010-935389fa0d80",
   "metadata": {},
   "outputs": [],
   "source": []
  },
  {
   "cell_type": "code",
   "execution_count": 13,
   "id": "fa922ddf-f7c2-4260-9e76-870e00cb9127",
   "metadata": {},
   "outputs": [],
   "source": [
    "file_path_tab11 = (\"//data/dept/SOM/ACCORDS/PiFolders/PI_Colborn/UCHealthSOR/Data/C2730_20240628\"\n",
    "                       \"/C2730_Table11_Lab_20240223.csv\")\n",
    "dtype = {\"EpicCptCode\": \"object\", \"LabResult\": \"object\"}\n",
    "cols11 = [\"arb_person_id\", \"arb_encounter_id\", 'LabComponentName', 'LabPanelName']\n",
    "\n",
    "file_path_tab10 = (\"//data/dept/SOM/ACCORDS/PiFolders/PI_Colborn/UCHealthSOR/Data/C2730_20240628\"\n",
    "                       \"/C2730_Table10_CUMedicineProcedure_20240223.csv\")\n",
    "cols10 = [\"arb_person_id\", \"arb_encounter_id\", \"ProcedureCategoryName\", \"ProcedureName\"]"
   ]
  },
  {
   "cell_type": "code",
   "execution_count": null,
   "id": "53fb5999-3b8b-42cc-8541-ec6067fa4fdc",
   "metadata": {},
   "outputs": [],
   "source": [
    "# innerJoin_personId_encoun_id.head(10)\n",
    "tab11 = load_csv_dask_cols(file_path_tab11, cols=cols11, dtype=dtype)"
   ]
  },
  {
   "cell_type": "code",
   "execution_count": null,
   "id": "a4be4413-f7f4-4a1a-8d28-df3ce2f7147e",
   "metadata": {},
   "outputs": [],
   "source": [
    "tab10 = load_csv_dask_cols(file_path_tab10, cols=cols10)"
   ]
  }
 ],
 "metadata": {
  "kernelspec": {
   "display_name": "Python 3 (ipykernel)",
   "language": "python",
   "name": "python3"
  },
  "language_info": {
   "codemirror_mode": {
    "name": "ipython",
    "version": 3
   },
   "file_extension": ".py",
   "mimetype": "text/x-python",
   "name": "python",
   "nbconvert_exporter": "python",
   "pygments_lexer": "ipython3",
   "version": "3.11.9"
  }
 },
 "nbformat": 4,
 "nbformat_minor": 5
}
