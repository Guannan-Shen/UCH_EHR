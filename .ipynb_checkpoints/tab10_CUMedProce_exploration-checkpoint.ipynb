{
 "cells": [
  {
   "cell_type": "code",
   "execution_count": 1,
   "id": "7f194f44-358d-4d13-885c-d7638902e3a7",
   "metadata": {},
   "outputs": [
    {
     "name": "stderr",
     "output_type": "stream",
     "text": [
      "C:\\Users\\sheng\\AppData\\Local\\miniforge3\\envs\\katie_side_proj\\Lib\\site-packages\\dask\\dataframe\\io\\csv.py:195: DtypeWarning: Columns (4) have mixed types. Specify dtype option on import or set low_memory=False.\n",
      "  df = reader(bio, **kwargs)\n",
      "C:\\Users\\sheng\\AppData\\Local\\miniforge3\\envs\\katie_side_proj\\Lib\\site-packages\\dask\\dataframe\\io\\csv.py:195: DtypeWarning: Columns (4) have mixed types. Specify dtype option on import or set low_memory=False.\n",
      "  df = reader(bio, **kwargs)\n",
      "C:\\Users\\sheng\\AppData\\Local\\miniforge3\\envs\\katie_side_proj\\Lib\\site-packages\\dask\\dataframe\\io\\csv.py:195: DtypeWarning: Columns (4) have mixed types. Specify dtype option on import or set low_memory=False.\n",
      "  df = reader(bio, **kwargs)\n",
      "C:\\Users\\sheng\\AppData\\Local\\miniforge3\\envs\\katie_side_proj\\Lib\\site-packages\\dask\\dataframe\\io\\csv.py:195: DtypeWarning: Columns (4) have mixed types. Specify dtype option on import or set low_memory=False.\n",
      "  df = reader(bio, **kwargs)\n"
     ]
    },
    {
     "name": "stdout",
     "output_type": "stream",
     "text": [
      "(7611644, 6)\n"
     ]
    },
    {
     "name": "stderr",
     "output_type": "stream",
     "text": [
      "C:\\Users\\sheng\\AppData\\Local\\miniforge3\\envs\\katie_side_proj\\Lib\\site-packages\\dask\\dataframe\\io\\csv.py:195: DtypeWarning: Columns (4) have mixed types. Specify dtype option on import or set low_memory=False.\n",
      "  df = reader(bio, **kwargs)\n",
      "C:\\Users\\sheng\\AppData\\Local\\miniforge3\\envs\\katie_side_proj\\Lib\\site-packages\\dask\\dataframe\\io\\csv.py:195: DtypeWarning: Columns (4) have mixed types. Specify dtype option on import or set low_memory=False.\n",
      "  df = reader(bio, **kwargs)\n",
      "C:\\Users\\sheng\\AppData\\Local\\miniforge3\\envs\\katie_side_proj\\Lib\\site-packages\\dask\\dataframe\\io\\csv.py:195: DtypeWarning: Columns (4) have mixed types. Specify dtype option on import or set low_memory=False.\n",
      "  df = reader(bio, **kwargs)\n"
     ]
    }
   ],
   "source": [
    "import freq_table\n",
    "import environment_check\n",
    "import pandas as pd\n",
    "import dask.dataframe as dd"
   ]
  },
  {
   "cell_type": "code",
   "execution_count": 3,
   "id": "85f96dd3-fddd-498b-9fcd-243058aa4a20",
   "metadata": {},
   "outputs": [],
   "source": [
    "file_path = \"//data/dept/SOM/ACCORDS/PiFolders/PI_Colborn/UCHealthSOR/Data/C2730_20240628/C2730_Table10_CUMedicineProcedure_20240223.csv\""
   ]
  },
  {
   "cell_type": "code",
   "execution_count": 6,
   "id": "ca7816c2-ea5e-43cb-9254-6a5ac6950b30",
   "metadata": {},
   "outputs": [
    {
     "name": "stdout",
     "output_type": "stream",
     "text": [
      "CPU times: total: 3.27 s\n",
      "Wall time: 1min 4s\n"
     ]
    },
    {
     "data": {
      "text/plain": [
       "arb_person_id             int64\n",
       "arb_encounter_id          int64\n",
       "ProcedureCategoryName    object\n",
       "ProcedureName            object\n",
       "ProcedureCode            object\n",
       "ServiceDate              object\n",
       "dtype: object"
      ]
     },
     "execution_count": 6,
     "metadata": {},
     "output_type": "execute_result"
    }
   ],
   "source": [
    "%%time \n",
    "df = pd.read_csv(file_path)\n",
    "df.shape\n",
    "df.dtypes"
   ]
  },
  {
   "cell_type": "code",
   "execution_count": 5,
   "id": "812bd944-579d-4be1-8ac7-b900f398fef3",
   "metadata": {
    "scrolled": true
   },
   "outputs": [
    {
     "name": "stdout",
     "output_type": "stream",
     "text": [
      "CPU times: total: 1.56 s\n",
      "Wall time: 4.44 s\n"
     ]
    },
    {
     "data": {
      "text/plain": [
       "(7611644, 6)"
      ]
     },
     "execution_count": 5,
     "metadata": {},
     "output_type": "execute_result"
    }
   ],
   "source": [
    "%%time\n",
    "ddf = dd.read_csv(file_path, low_memory=False)\n",
    "df = ddf.compute()\n",
    "df.shape"
   ]
  },
  {
   "cell_type": "code",
   "execution_count": null,
   "id": "c3e01f0b-1fd1-4f87-a26c-2c15417ed74a",
   "metadata": {},
   "outputs": [],
   "source": []
  }
 ],
 "metadata": {
  "kernelspec": {
   "display_name": "Python 3 (ipykernel)",
   "language": "python",
   "name": "python3"
  },
  "language_info": {
   "codemirror_mode": {
    "name": "ipython",
    "version": 3
   },
   "file_extension": ".py",
   "mimetype": "text/x-python",
   "name": "python",
   "nbconvert_exporter": "python",
   "pygments_lexer": "ipython3",
   "version": "3.11.9"
  }
 },
 "nbformat": 4,
 "nbformat_minor": 5
}
